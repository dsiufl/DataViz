{
 "cells": [
  {
   "cell_type": "markdown",
   "metadata": {},
   "source": [
    "# Data Visualization in Python\n",
    "For this workshop we are going to be exploring the basics of **seaborn**, a statistical graphing library for Python. Seaborn was created by [Michael Waskom](https://stanford.edu/~mwaskom/), a PhD student at Stanford. Seaborn is built on top of **matplotlib**, but provides a high level API and aesthetically pleasing graphs. Seaborn can use data from **pandas**. Seaborn also handles things such as automatically cleaning data. As a result, seaborn fits in perfectly with the typical scientific software stack: SciPy, NumPy, pandas, matplotlib. \n",
    "\n",
    "The documentation for seaborn is very thorough and can be found [here](https://stanford.edu/~mwaskom/software/seaborn/api.html). "
   ]
  },
  {
   "cell_type": "markdown",
   "metadata": {},
   "source": [
    "### Setup\n",
    "\n",
    "Install seaborn with `conda install seaborn`\n",
    "\n",
    "If you are on **Windows**, run that command from the Anaconda Command Prompt\n",
    "\n",
    "If you are on **Mac OS X**, run that command from the terminal"
   ]
  },
  {
   "cell_type": "code",
   "execution_count": null,
   "metadata": {
    "collapsed": false
   },
   "outputs": [],
   "source": []
  },
  {
   "cell_type": "markdown",
   "metadata": {},
   "source": [
    "# Comparing matplotlib and seaborn\n",
    "### With matplotlib"
   ]
  },
  {
   "cell_type": "code",
   "execution_count": null,
   "metadata": {
    "collapsed": true
   },
   "outputs": [],
   "source": []
  },
  {
   "cell_type": "code",
   "execution_count": null,
   "metadata": {
    "collapsed": false,
    "scrolled": true
   },
   "outputs": [],
   "source": []
  },
  {
   "cell_type": "markdown",
   "metadata": {},
   "source": [
    "### With seaborn"
   ]
  },
  {
   "cell_type": "code",
   "execution_count": null,
   "metadata": {
    "collapsed": true
   },
   "outputs": [],
   "source": []
  },
  {
   "cell_type": "code",
   "execution_count": null,
   "metadata": {
    "collapsed": false,
    "scrolled": true
   },
   "outputs": [],
   "source": []
  },
  {
   "cell_type": "markdown",
   "metadata": {},
   "source": [
    "### Color Palettes\n",
    "Seaborn includes a few color palettes such as muted, pastel, and dark. [Documentation on color palettes](https://stanford.edu/~mwaskom/software/seaborn/generated/seaborn.color_palette.html#seaborn.color_palette)"
   ]
  },
  {
   "cell_type": "code",
   "execution_count": null,
   "metadata": {
    "collapsed": false
   },
   "outputs": [],
   "source": []
  },
  {
   "cell_type": "code",
   "execution_count": null,
   "metadata": {
    "collapsed": false
   },
   "outputs": [],
   "source": []
  },
  {
   "cell_type": "code",
   "execution_count": null,
   "metadata": {
    "collapsed": false
   },
   "outputs": [],
   "source": []
  },
  {
   "cell_type": "code",
   "execution_count": null,
   "metadata": {
    "collapsed": false
   },
   "outputs": [],
   "source": []
  },
  {
   "cell_type": "markdown",
   "metadata": {},
   "source": [
    "# Basic Plotting\n",
    "These are just simple plots with random data. "
   ]
  },
  {
   "cell_type": "code",
   "execution_count": null,
   "metadata": {
    "collapsed": true
   },
   "outputs": [],
   "source": []
  },
  {
   "cell_type": "code",
   "execution_count": null,
   "metadata": {
    "collapsed": false
   },
   "outputs": [],
   "source": []
  },
  {
   "cell_type": "markdown",
   "metadata": {},
   "source": [
    "**kde** is kernel density estimation\n",
    "\n",
    "kernel density estimation is a non-parametric method to estimate the *probability density function* (PDF)\n",
    "\n",
    "seaborn calculates the KDE by placing a normal curve at each value and then summed together. The area under the curve is equal to 1."
   ]
  },
  {
   "cell_type": "code",
   "execution_count": null,
   "metadata": {
    "collapsed": false
   },
   "outputs": [],
   "source": []
  },
  {
   "cell_type": "code",
   "execution_count": null,
   "metadata": {
    "collapsed": false
   },
   "outputs": [],
   "source": []
  },
  {
   "cell_type": "markdown",
   "metadata": {},
   "source": [
    "## Other Plots\n",
    "[Factor plots](https://stanford.edu/~mwaskom/software/seaborn/generated/seaborn.factorplot.html)\n",
    "![Factor plot](https://i.imgur.com/ybqZFF3.png)\n",
    "\n",
    "[Time Series Plots](https://stanford.edu/~mwaskom/software/seaborn/generated/seaborn.tsplot.html)\n",
    "![Time Series Plot](https://i.imgur.com/XFk2TBk.png)"
   ]
  },
  {
   "cell_type": "markdown",
   "metadata": {},
   "source": [
    "# Linear Regression\n",
    "seaborn includes support for loading datasets from [https://github.com/mwaskom/seaborn-data](https://github.com/mwaskom/seaborn-data) using load_dataset. The dataset is loaded as a pandas dataframe."
   ]
  },
  {
   "cell_type": "code",
   "execution_count": null,
   "metadata": {
    "collapsed": true
   },
   "outputs": [],
   "source": []
  },
  {
   "cell_type": "code",
   "execution_count": null,
   "metadata": {
    "collapsed": false
   },
   "outputs": [],
   "source": []
  },
  {
   "cell_type": "code",
   "execution_count": null,
   "metadata": {
    "collapsed": false
   },
   "outputs": [],
   "source": []
  },
  {
   "cell_type": "markdown",
   "metadata": {},
   "source": [
    "# Heatmaps"
   ]
  },
  {
   "cell_type": "code",
   "execution_count": null,
   "metadata": {
    "collapsed": false
   },
   "outputs": [],
   "source": []
  },
  {
   "cell_type": "code",
   "execution_count": null,
   "metadata": {
    "collapsed": false
   },
   "outputs": [],
   "source": []
  },
  {
   "cell_type": "code",
   "execution_count": null,
   "metadata": {
    "collapsed": false
   },
   "outputs": [],
   "source": []
  },
  {
   "cell_type": "code",
   "execution_count": null,
   "metadata": {
    "collapsed": false
   },
   "outputs": [],
   "source": []
  },
  {
   "cell_type": "code",
   "execution_count": null,
   "metadata": {
    "collapsed": false
   },
   "outputs": [],
   "source": []
  },
  {
   "cell_type": "markdown",
   "metadata": {
    "collapsed": false
   },
   "source": [
    "# Titanic Dataset\n",
    "\n",
    "Contains almost 900 rows of passengers from the Titanic. Contains the following features:\n",
    "- survived - 1 = Survived, 0 = Died\n",
    "- pclass - First class (1), Second class (2), or Third class (3).\n",
    "- sex - The gender of the passenger\n",
    "- age - The age of the passenger\n",
    "- sibsp - Number of siblings and spouses the passenger had on board.\n",
    "- parch - Number of parents and children the passenger had on board.\n",
    "- fare - How much the passenger paid for the ticker.\n",
    "- embarked - First letter of the city where the passenger boarded the Titanic\n",
    "- who - Contains either man, woman, or child\n",
    "- adult_male - Boolean value for whether or not the passenger is an adult male\n",
    "- embark_town - Entire name of the city where the passenger boarded the Titanic\n",
    "- alive - Same as survived, but with a yes or no rather than 0 or 1\n",
    "- alone - Boolean value if the passenger was alone on the Titanic"
   ]
  },
  {
   "cell_type": "code",
   "execution_count": null,
   "metadata": {
    "collapsed": false
   },
   "outputs": [],
   "source": []
  },
  {
   "cell_type": "code",
   "execution_count": null,
   "metadata": {
    "collapsed": false
   },
   "outputs": [],
   "source": []
  },
  {
   "cell_type": "code",
   "execution_count": null,
   "metadata": {
    "collapsed": false
   },
   "outputs": [],
   "source": []
  },
  {
   "cell_type": "markdown",
   "metadata": {},
   "source": [
    "### Linear Regression Equation\n",
    "\n",
    "Seaborn is purely a visualization library. Due to how it creates the graphs, there is no way to output the math behind the graph. \n",
    "\n",
    "![Seaborn model](https://i.imgur.com/iiXN561.png)"
   ]
  },
  {
   "cell_type": "code",
   "execution_count": null,
   "metadata": {
    "collapsed": false
   },
   "outputs": [],
   "source": []
  },
  {
   "cell_type": "code",
   "execution_count": null,
   "metadata": {
    "collapsed": false
   },
   "outputs": [],
   "source": []
  },
  {
   "cell_type": "markdown",
   "metadata": {},
   "source": [
    "### Robust Regression"
   ]
  },
  {
   "cell_type": "code",
   "execution_count": null,
   "metadata": {
    "collapsed": false,
    "scrolled": true
   },
   "outputs": [],
   "source": []
  },
  {
   "cell_type": "markdown",
   "metadata": {},
   "source": [
    "SciPy does not do Robust Regression, but the same process would apply. You clean the data and would then use a library that supports the model you need.\n",
    "\n",
    "[StatsModels](http://statsmodels.sourceforge.net) supports a huge range of statistical functions and can handle things like robust regression."
   ]
  },
  {
   "cell_type": "markdown",
   "metadata": {},
   "source": [
    "### Who paid the most?"
   ]
  },
  {
   "cell_type": "code",
   "execution_count": null,
   "metadata": {
    "collapsed": false
   },
   "outputs": [],
   "source": []
  },
  {
   "cell_type": "markdown",
   "metadata": {},
   "source": [
    "### Who survived?"
   ]
  },
  {
   "cell_type": "code",
   "execution_count": null,
   "metadata": {
    "collapsed": false
   },
   "outputs": [],
   "source": []
  },
  {
   "cell_type": "markdown",
   "metadata": {},
   "source": [
    "Check out the dataset on [Kaggle](https://www.kaggle.com/c/titanic) for a machine learning tutorial with the titanic dataset."
   ]
  },
  {
   "cell_type": "markdown",
   "metadata": {},
   "source": [
    "# Examples of Visualizations\n",
    "\n",
    "[Craigslist Missed Connections](http://www.vox.com/a/craigslist-missed-connections/i-analyzed-10-000-craigslist-missed-connections-here-s-what-i-learned)\n",
    "\n",
    "[Who Marries Who](http://www.bloomberg.com/graphics/2016-who-marries-whom/)\n",
    "\n",
    "[18th and 19th Century Ship Logs](https://i.imgur.com/dmaEsgO.png)"
   ]
  }
 ],
 "metadata": {
  "kernelspec": {
   "display_name": "Python 2",
   "language": "python",
   "name": "python2"
  },
  "language_info": {
   "codemirror_mode": {
    "name": "ipython",
    "version": 2
   },
   "file_extension": ".py",
   "mimetype": "text/x-python",
   "name": "python",
   "nbconvert_exporter": "python",
   "pygments_lexer": "ipython2",
   "version": "2.7.6"
  }
 },
 "nbformat": 4,
 "nbformat_minor": 0
}
