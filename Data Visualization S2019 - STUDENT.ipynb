{
 "cells": [
  {
   "cell_type": "code",
   "execution_count": 17,
   "metadata": {},
   "outputs": [],
   "source": [
    "import numpy as np\n",
    "import pandas as pd\n",
    "%matplotlib inline\n",
    "import matplotlib.pyplot as plt\n",
    "import seaborn as sns\n",
    "sns.set()\n",
    "\n",
    "import warnings\n",
    "warnings.filterwarnings('ignore')\n",
    "\n",
    "# This is used as a hack in Jupyter Notebook to make seabron plots bigger. Call before making a plot.\n",
    "def setplt(r=1, c=1, w=15, h=9, **kwargs):\n",
    "    f, axs = plt.subplots(r, c, figsize=(w, h), **kwargs)\n",
    "    sns.despine(f, left=True, bottom=True)\n",
    "    return axs"
   ]
  },
  {
   "cell_type": "markdown",
   "metadata": {},
   "source": [
    "# Welcome to Data Visualization! \n",
    "\n",
    "### Our Datasets \n",
    "\n",
    "We are using a pokemon dataset from Kaggle and a bike share data set that was extracted from [Capital Bike Share data](https://www.capitalbikeshare.com/system-data).\n",
    "\n",
    "### Our Procedure\n",
    "\n",
    "We are going to go over categorical data approaches and time series data approaches. \n",
    "\n",
    "### Step 1 Load in the Data"
   ]
  },
  {
   "cell_type": "code",
   "execution_count": 18,
   "metadata": {},
   "outputs": [],
   "source": [
    "#load data\n"
   ]
  },
  {
   "cell_type": "markdown",
   "metadata": {},
   "source": [
    "## Categorical Data \n",
    "\n",
    "We're going to use pokemon data to play around with categorical plotting. When we are plotting non-quantitative values, we want to focus on bar graphs, heat maps, and flow charts. Aggregating our data gives more options, but our options for categorical data are limited. "
   ]
  },
  {
   "cell_type": "code",
   "execution_count": 19,
   "metadata": {},
   "outputs": [],
   "source": [
    "# Print out the first few lines of data \n"
   ]
  },
  {
   "cell_type": "markdown",
   "metadata": {},
   "source": [
    "### Countplot\n",
    "\n",
    "A seaborn technique that will group data for us automatically. "
   ]
  },
  {
   "cell_type": "code",
   "execution_count": null,
   "metadata": {
    "scrolled": false
   },
   "outputs": [],
   "source": [
    "\n",
    "\n"
   ]
  },
  {
   "cell_type": "markdown",
   "metadata": {},
   "source": [
    "### Heatmaps\n",
    "\n",
    "Let's experiment with pivot tables to make heatmaps. "
   ]
  },
  {
   "cell_type": "code",
   "execution_count": 20,
   "metadata": {},
   "outputs": [],
   "source": [
    "# pd.pivot_table(data, values, index, columns, aggfunc) # This is our function\n",
    "\n"
   ]
  },
  {
   "cell_type": "code",
   "execution_count": 21,
   "metadata": {},
   "outputs": [],
   "source": [
    "#generation pivot table\n",
    "\n",
    "#legendary pivot table \n"
   ]
  },
  {
   "cell_type": "code",
   "execution_count": 22,
   "metadata": {},
   "outputs": [],
   "source": [
    "#plt2 = setplt(1,2, h=12, sharey=True, squeeze=True)\n",
    "\n",
    "#legendary heatmap\n",
    "\n",
    "#generation heatmap\n"
   ]
  },
  {
   "cell_type": "markdown",
   "metadata": {},
   "source": [
    "## Time Series Visualization\n",
    "\n",
    "We're going to be looking at time series data from a bike share company in Washington, D.C. Time series data is fun to visualize because it's easy for a wide audience to understand and is visually pleasing. "
   ]
  },
  {
   "cell_type": "code",
   "execution_count": 23,
   "metadata": {},
   "outputs": [],
   "source": [
    "# Print out the first few lines of data \n"
   ]
  },
  {
   "cell_type": "code",
   "execution_count": 24,
   "metadata": {},
   "outputs": [],
   "source": [
    "# first we need to convert our week columnd into date time using pd.to_datetime\n"
   ]
  },
  {
   "cell_type": "code",
   "execution_count": 25,
   "metadata": {},
   "outputs": [],
   "source": [
    "# Group by week and then assign a dataframe called fivebikeavg that has one column for 'sum'\n"
   ]
  },
  {
   "cell_type": "code",
   "execution_count": 26,
   "metadata": {},
   "outputs": [],
   "source": [
    "# Using our function from earlier\n",
    "\n",
    "# Assign the graphs\n",
    "\n",
    "# Set the title\n"
   ]
  },
  {
   "cell_type": "markdown",
   "metadata": {},
   "source": [
    "Now we're going to look at one individual bike and use a filter function. "
   ]
  },
  {
   "cell_type": "code",
   "execution_count": 27,
   "metadata": {},
   "outputs": [],
   "source": [
    "# Filter by the bikenum = 'W21834' and assign it to a dataframe called onebike\n",
    "\n"
   ]
  },
  {
   "cell_type": "code",
   "execution_count": 28,
   "metadata": {},
   "outputs": [],
   "source": [
    "# Importing some libraries to smooth our data\n",
    "\n",
    "from scipy.signal import savgol_filter\n",
    "from scipy import signal\n",
    "\n",
    "x = onebike['week']\n",
    "\n",
    "filter_order = 4 #specifies how many filter coefficients should be used\n",
    "filter_cutoff = (1/14) # inverse of the time interval in the timeseries\n",
    "\n",
    "coef1, coef2 = signal.butter(filter_order, filter_cutoff, btype='lowpass')\n",
    "\n",
    "y = signal.filtfilt(coef1,coef2,onebike['sum'])"
   ]
  },
  {
   "cell_type": "code",
   "execution_count": 29,
   "metadata": {},
   "outputs": [],
   "source": [
    "# Putting it all together, plotting winter solstices\n",
    "\n",
    "#add labels\n",
    "\n"
   ]
  }
 ],
 "metadata": {
  "kernelspec": {
   "display_name": "Python 3",
   "language": "python",
   "name": "python3"
  },
  "language_info": {
   "codemirror_mode": {
    "name": "ipython",
    "version": 3
   },
   "file_extension": ".py",
   "mimetype": "text/x-python",
   "name": "python",
   "nbconvert_exporter": "python",
   "pygments_lexer": "ipython3",
   "version": "3.7.2"
  }
 },
 "nbformat": 4,
 "nbformat_minor": 2
}
